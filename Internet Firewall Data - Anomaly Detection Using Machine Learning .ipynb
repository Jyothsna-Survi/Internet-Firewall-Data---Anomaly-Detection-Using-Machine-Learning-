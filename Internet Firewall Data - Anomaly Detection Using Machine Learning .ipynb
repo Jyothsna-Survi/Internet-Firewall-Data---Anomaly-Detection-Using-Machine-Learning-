{
 "cells": [
  {
   "cell_type": "code",
   "execution_count": 3,
   "metadata": {
    "gather": {
     "logged": 1715088478183
    },
    "jupyter": {
     "outputs_hidden": false,
     "source_hidden": false
    },
    "nteract": {
     "transient": {
      "deleting": false
     }
    }
   },
   "outputs": [
    {
     "data": {
      "application/vnd.livy.statement-meta+json": {
       "execution_finish_time": "2024-05-07T13:27:57.6141079Z",
       "execution_start_time": "2024-05-07T13:27:56.766918Z",
       "livy_statement_state": "available",
       "parent_msg_id": "a0fe109a-8db0-417e-b51f-ccb2e016f54e",
       "queued_time": "2024-05-07T13:27:56.639769Z",
       "session_id": "10",
       "session_start_time": null,
       "spark_jobs": {
        "jobs": [],
        "limit": 20,
        "numbers": {
         "FAILED": 0,
         "RUNNING": 0,
         "SUCCEEDED": 0,
         "UNKNOWN": 0
        },
        "rule": "ALL_DESC"
       },
       "spark_pool": "9aef54d9-9ad5-4e7e-a764-d0d00c9e120a",
       "state": "finished",
       "statement_id": 8,
       "statement_ids": [
        8
       ]
      },
      "text/plain": [
       "StatementMeta(9aef54d9-9ad5-4e7e-a764-d0d00c9e120a, 10, 8, Finished, Available)"
      ]
     },
     "metadata": {},
     "output_type": "display_data"
    }
   ],
   "source": [
    "import pandas as pd\n",
    "from sklearn.decomposition import PCA\n",
    "from sklearn.preprocessing import StandardScaler\n",
    "\n",
    "# Load the dataset\n",
    "df = pd.read_csv('Users/jsurvi/internet_firewall_data.csv')\n"
   ]
  },
  {
   "cell_type": "code",
   "execution_count": 4,
   "metadata": {
    "gather": {
     "logged": 1715088478715
    },
    "jupyter": {
     "outputs_hidden": false,
     "source_hidden": false
    },
    "nteract": {
     "transient": {
      "deleting": false
     }
    }
   },
   "outputs": [
    {
     "data": {
      "application/vnd.livy.statement-meta+json": {
       "execution_finish_time": "2024-05-07T13:27:58.0955237Z",
       "execution_start_time": "2024-05-07T13:27:57.7813604Z",
       "livy_statement_state": "available",
       "parent_msg_id": "972ecaff-4c32-4f2a-8e1d-efdeac252a0f",
       "queued_time": "2024-05-07T13:27:56.6408469Z",
       "session_id": "10",
       "session_start_time": null,
       "spark_jobs": {
        "jobs": [],
        "limit": 20,
        "numbers": {
         "FAILED": 0,
         "RUNNING": 0,
         "SUCCEEDED": 0,
         "UNKNOWN": 0
        },
        "rule": "ALL_DESC"
       },
       "spark_pool": "9aef54d9-9ad5-4e7e-a764-d0d00c9e120a",
       "state": "finished",
       "statement_id": 9,
       "statement_ids": [
        9
       ]
      },
      "text/plain": [
       "StatementMeta(9aef54d9-9ad5-4e7e-a764-d0d00c9e120a, 10, 9, Finished, Available)"
      ]
     },
     "metadata": {},
     "output_type": "display_data"
    },
    {
     "name": "stdout",
     "output_type": "stream",
     "text": [
      "(65532, 12)\n"
     ]
    }
   ],
   "source": [
    "print(df.shape)\n"
   ]
  },
  {
   "cell_type": "markdown",
   "metadata": {
    "nteract": {
     "transient": {
      "deleting": false
     }
    }
   },
   "source": []
  },
  {
   "cell_type": "code",
   "execution_count": 5,
   "metadata": {
    "gather": {
     "logged": 1715088482467
    },
    "jupyter": {
     "outputs_hidden": false,
     "source_hidden": false
    },
    "nteract": {
     "transient": {
      "deleting": false
     }
    }
   },
   "outputs": [
    {
     "data": {
      "application/vnd.livy.statement-meta+json": {
       "execution_finish_time": "2024-05-07T13:28:01.9206753Z",
       "execution_start_time": "2024-05-07T13:28:01.1182994Z",
       "livy_statement_state": "available",
       "parent_msg_id": "5f5e5030-56ae-45fc-8da7-70fe6cb4f3bd",
       "queued_time": "2024-05-07T13:28:00.9980576Z",
       "session_id": "10",
       "session_start_time": null,
       "spark_jobs": {
        "jobs": [],
        "limit": 20,
        "numbers": {
         "FAILED": 0,
         "RUNNING": 0,
         "SUCCEEDED": 0,
         "UNKNOWN": 0
        },
        "rule": "ALL_DESC"
       },
       "spark_pool": "9aef54d9-9ad5-4e7e-a764-d0d00c9e120a",
       "state": "finished",
       "statement_id": 10,
       "statement_ids": [
        10
       ]
      },
      "text/plain": [
       "StatementMeta(9aef54d9-9ad5-4e7e-a764-d0d00c9e120a, 10, 10, Finished, Available)"
      ]
     },
     "metadata": {},
     "output_type": "display_data"
    }
   ],
   "source": [
    "# Check for duplicates\n",
    "df = df.drop_duplicates()\n",
    "\n",
    "\n"
   ]
  },
  {
   "cell_type": "code",
   "execution_count": 6,
   "metadata": {
    "gather": {
     "logged": 1715088485769
    },
    "jupyter": {
     "outputs_hidden": false,
     "source_hidden": false
    },
    "nteract": {
     "transient": {
      "deleting": false
     }
    }
   },
   "outputs": [
    {
     "data": {
      "application/vnd.livy.statement-meta+json": {
       "execution_finish_time": "2024-05-07T13:28:05.1777693Z",
       "execution_start_time": "2024-05-07T13:28:04.8642957Z",
       "livy_statement_state": "available",
       "parent_msg_id": "2edf393f-9c58-49ee-9f8b-ea1b58bdadb9",
       "queued_time": "2024-05-07T13:28:04.7458158Z",
       "session_id": "10",
       "session_start_time": null,
       "spark_jobs": {
        "jobs": [],
        "limit": 20,
        "numbers": {
         "FAILED": 0,
         "RUNNING": 0,
         "SUCCEEDED": 0,
         "UNKNOWN": 0
        },
        "rule": "ALL_DESC"
       },
       "spark_pool": "9aef54d9-9ad5-4e7e-a764-d0d00c9e120a",
       "state": "finished",
       "statement_id": 11,
       "statement_ids": [
        11
       ]
      },
      "text/plain": [
       "StatementMeta(9aef54d9-9ad5-4e7e-a764-d0d00c9e120a, 10, 11, Finished, Available)"
      ]
     },
     "metadata": {},
     "output_type": "display_data"
    },
    {
     "name": "stdout",
     "output_type": "stream",
     "text": [
      "(57170, 12)\n"
     ]
    }
   ],
   "source": [
    "print(df.shape)\n"
   ]
  },
  {
   "cell_type": "code",
   "execution_count": 7,
   "metadata": {
    "gather": {
     "logged": 1715088488543
    },
    "jupyter": {
     "outputs_hidden": false,
     "source_hidden": false
    },
    "nteract": {
     "transient": {
      "deleting": false
     }
    }
   },
   "outputs": [
    {
     "data": {
      "application/vnd.livy.statement-meta+json": {
       "execution_finish_time": "2024-05-07T13:28:07.9357568Z",
       "execution_start_time": "2024-05-07T13:28:07.6384975Z",
       "livy_statement_state": "available",
       "parent_msg_id": "9709e959-a8e4-4857-bc0e-4cc8574cbb7b",
       "queued_time": "2024-05-07T13:28:07.5237497Z",
       "session_id": "10",
       "session_start_time": null,
       "spark_jobs": {
        "jobs": [],
        "limit": 20,
        "numbers": {
         "FAILED": 0,
         "RUNNING": 0,
         "SUCCEEDED": 0,
         "UNKNOWN": 0
        },
        "rule": "ALL_DESC"
       },
       "spark_pool": "9aef54d9-9ad5-4e7e-a764-d0d00c9e120a",
       "state": "finished",
       "statement_id": 12,
       "statement_ids": [
        12
       ]
      },
      "text/plain": [
       "StatementMeta(9aef54d9-9ad5-4e7e-a764-d0d00c9e120a, 10, 12, Finished, Available)"
      ]
     },
     "metadata": {},
     "output_type": "display_data"
    }
   ],
   "source": [
    "# Handle missing values\n",
    "df = df.dropna()"
   ]
  },
  {
   "cell_type": "code",
   "execution_count": 8,
   "metadata": {
    "gather": {
     "logged": 1715088494542
    },
    "jupyter": {
     "outputs_hidden": false,
     "source_hidden": false
    },
    "nteract": {
     "transient": {
      "deleting": false
     }
    }
   },
   "outputs": [
    {
     "data": {
      "application/vnd.livy.statement-meta+json": {
       "execution_finish_time": "2024-05-07T13:28:13.945165Z",
       "execution_start_time": "2024-05-07T13:28:13.644736Z",
       "livy_statement_state": "available",
       "parent_msg_id": "a5f64bb3-e2bf-40f6-af7d-81a1bdbec2bd",
       "queued_time": "2024-05-07T13:28:13.5268504Z",
       "session_id": "10",
       "session_start_time": null,
       "spark_jobs": {
        "jobs": [],
        "limit": 20,
        "numbers": {
         "FAILED": 0,
         "RUNNING": 0,
         "SUCCEEDED": 0,
         "UNKNOWN": 0
        },
        "rule": "ALL_DESC"
       },
       "spark_pool": "9aef54d9-9ad5-4e7e-a764-d0d00c9e120a",
       "state": "finished",
       "statement_id": 13,
       "statement_ids": [
        13
       ]
      },
      "text/plain": [
       "StatementMeta(9aef54d9-9ad5-4e7e-a764-d0d00c9e120a, 10, 13, Finished, Available)"
      ]
     },
     "metadata": {},
     "output_type": "display_data"
    },
    {
     "name": "stdout",
     "output_type": "stream",
     "text": [
      "(57170, 12)\n"
     ]
    }
   ],
   "source": [
    "print(df.shape)"
   ]
  },
  {
   "cell_type": "code",
   "execution_count": 9,
   "metadata": {
    "gather": {
     "logged": 1715088508021
    },
    "jupyter": {
     "outputs_hidden": false,
     "source_hidden": false
    },
    "nteract": {
     "transient": {
      "deleting": false
     }
    }
   },
   "outputs": [
    {
     "data": {
      "application/vnd.livy.statement-meta+json": {
       "execution_finish_time": "2024-05-07T13:28:27.4588503Z",
       "execution_start_time": "2024-05-07T13:28:23.9672016Z",
       "livy_statement_state": "available",
       "parent_msg_id": "212cecc9-a07f-450e-9b68-c5777aa6c2b4",
       "queued_time": "2024-05-07T13:28:23.820368Z",
       "session_id": "10",
       "session_start_time": null,
       "spark_jobs": {
        "jobs": [],
        "limit": 20,
        "numbers": {
         "FAILED": 0,
         "RUNNING": 0,
         "SUCCEEDED": 0,
         "UNKNOWN": 0
        },
        "rule": "ALL_DESC"
       },
       "spark_pool": "9aef54d9-9ad5-4e7e-a764-d0d00c9e120a",
       "state": "finished",
       "statement_id": 14,
       "statement_ids": [
        14
       ]
      },
      "text/plain": [
       "StatementMeta(9aef54d9-9ad5-4e7e-a764-d0d00c9e120a, 10, 14, Finished, Available)"
      ]
     },
     "metadata": {},
     "output_type": "display_data"
    },
    {
     "name": "stdout",
     "output_type": "stream",
     "text": [
      "Explained variance ratio: [0.48139183 0.15495311]\n",
      "   Source Port  Destination Port  NAT Source Port  NAT Destination Port  \\\n",
      "0        57222                53            54587                    53   \n",
      "1        56258              3389            56258                  3389   \n",
      "2         6881             50321            43265                 50321   \n",
      "3        50553              3389            50553                  3389   \n",
      "4        50002               443            45848                   443   \n",
      "\n",
      "  Action  Bytes  Bytes Sent  Bytes Received  Packets  Elapsed Time (sec)  \\\n",
      "0  allow    177          94              83        2                  30   \n",
      "1  allow   4768        1600            3168       19                  17   \n",
      "2  allow    238         118             120        2                1199   \n",
      "3  allow   3327        1438            1889       15                  17   \n",
      "4  allow  25358        6778           18580       31                  16   \n",
      "\n",
      "   pkts_sent  pkts_received  PCA Component 1  PCA Component 2  \n",
      "0          1              1        -0.050520        -0.813981  \n",
      "1         10              9        -0.046559        -0.478820  \n",
      "2          1              1         0.272854         6.386852  \n",
      "3          8              7        -0.048824        -0.307170  \n",
      "4         13             18        -0.044115        -0.565015  \n"
     ]
    }
   ],
   "source": [
    "# Separate features for PCA\n",
    "X = df[['Source Port', 'Destination Port', 'NAT Source Port', 'NAT Destination Port',\n",
    "        'Bytes', 'Bytes Sent', 'Bytes Received', 'Packets', \n",
    "        'Elapsed Time (sec)', 'pkts_sent', 'pkts_received']]\n",
    "\n",
    "# Standardize the data\n",
    "scaler = StandardScaler()\n",
    "X_scaled = scaler.fit_transform(X)\n",
    "\n",
    "# Apply PCA\n",
    "pca = PCA(n_components=2)  # Reduce to 2 principal components for visualization\n",
    "X_pca = pca.fit_transform(X_scaled)\n",
    "\n",
    "# Print explained variance ratio\n",
    "print(\"Explained variance ratio:\", pca.explained_variance_ratio_)\n",
    "\n",
    "\n",
    "# Create DataFrame with PCA components\n",
    "df_pca = pd.DataFrame(data=X_pca, columns=['PCA Component 1', 'PCA Component 2'])\n",
    "\n",
    "# Concatenate PCA components with the original DataFrame\n",
    "df = pd.concat([df.reset_index(drop=True), df_pca.reset_index(drop=True)], axis=1)\n",
    "\n",
    "# Print first few rows of the DataFrame with PCA components\n",
    "print(df.head())"
   ]
  },
  {
   "cell_type": "code",
   "execution_count": 10,
   "metadata": {
    "gather": {
     "logged": 1715088911067
    },
    "jupyter": {
     "outputs_hidden": false,
     "source_hidden": false
    },
    "nteract": {
     "transient": {
      "deleting": false
     }
    }
   },
   "outputs": [
    {
     "data": {
      "application/vnd.livy.statement-meta+json": {
       "execution_finish_time": "2024-05-07T13:35:10.3997646Z",
       "execution_start_time": "2024-05-07T13:28:37.8235644Z",
       "livy_statement_state": "available",
       "parent_msg_id": "0d331ac9-caf9-4692-9490-fd1906f2469f",
       "queued_time": "2024-05-07T13:28:37.6925348Z",
       "session_id": "10",
       "session_start_time": null,
       "spark_jobs": {
        "jobs": [],
        "limit": 20,
        "numbers": {
         "FAILED": 0,
         "RUNNING": 0,
         "SUCCEEDED": 0,
         "UNKNOWN": 0
        },
        "rule": "ALL_DESC"
       },
       "spark_pool": "9aef54d9-9ad5-4e7e-a764-d0d00c9e120a",
       "state": "finished",
       "statement_id": 15,
       "statement_ids": [
        15
       ]
      },
      "text/plain": [
       "StatementMeta(9aef54d9-9ad5-4e7e-a764-d0d00c9e120a, 10, 15, Finished, Available)"
      ]
     },
     "metadata": {},
     "output_type": "display_data"
    },
    {
     "name": "stdout",
     "output_type": "stream",
     "text": [
      "t-SNE components: [[ 18.837944   -26.898037  ]\n",
      " [ -0.20858711  63.740612  ]\n",
      " [  2.752887   -64.37184   ]\n",
      " ...\n",
      " [-22.575691    14.466048  ]\n",
      " [ -2.7742763   41.26387   ]\n",
      " [ -2.7530136   41.25872   ]]\n",
      "   Source Port  Destination Port  NAT Source Port  NAT Destination Port  \\\n",
      "0        57222                53            54587                    53   \n",
      "1        56258              3389            56258                  3389   \n",
      "2         6881             50321            43265                 50321   \n",
      "3        50553              3389            50553                  3389   \n",
      "4        50002               443            45848                   443   \n",
      "\n",
      "  Action  Bytes  Bytes Sent  Bytes Received  Packets  Elapsed Time (sec)  \\\n",
      "0  allow    177          94              83        2                  30   \n",
      "1  allow   4768        1600            3168       19                  17   \n",
      "2  allow    238         118             120        2                1199   \n",
      "3  allow   3327        1438            1889       15                  17   \n",
      "4  allow  25358        6778           18580       31                  16   \n",
      "\n",
      "   pkts_sent  pkts_received  PCA Component 1  PCA Component 2  \\\n",
      "0          1              1        -0.050520        -0.813981   \n",
      "1         10              9        -0.046559        -0.478820   \n",
      "2          1              1         0.272854         6.386852   \n",
      "3          8              7        -0.048824        -0.307170   \n",
      "4         13             18        -0.044115        -0.565015   \n",
      "\n",
      "   t-SNE Component 1  t-SNE Component 2  \n",
      "0          18.837944         -26.898037  \n",
      "1          -0.208587          63.740612  \n",
      "2           2.752887         -64.371841  \n",
      "3          -1.695918          60.580345  \n",
      "4         -37.189548         -28.282530  \n"
     ]
    }
   ],
   "source": [
    "from sklearn.manifold import TSNE\n",
    "\n",
    "# Apply t-SNE\n",
    "tsne = TSNE(n_components=2, random_state=42)\n",
    "X_tsne = tsne.fit_transform(X_scaled)\n",
    "\n",
    "# Print t-SNE components\n",
    "print(\"t-SNE components:\", X_tsne)\n",
    "\n",
    "# Create DataFrame with t-SNE components\n",
    "df_tsne = pd.DataFrame(data=X_tsne, columns=['t-SNE Component 1', 't-SNE Component 2'])\n",
    "\n",
    "# Concatenate t-SNE components with the original DataFrame\n",
    "df = pd.concat([df.reset_index(drop=True), df_tsne.reset_index(drop=True)], axis=1)\n",
    "\n",
    "# Print first few rows of the DataFrame with t-SNE components\n",
    "print(df.head())"
   ]
  },
  {
   "cell_type": "code",
   "execution_count": 11,
   "metadata": {
    "gather": {
     "logged": 1715088926760
    },
    "jupyter": {
     "outputs_hidden": false,
     "source_hidden": false
    },
    "nteract": {
     "transient": {
      "deleting": false
     }
    }
   },
   "outputs": [
    {
     "data": {
      "application/vnd.livy.statement-meta+json": {
       "execution_finish_time": "2024-05-07T13:35:26.1139717Z",
       "execution_start_time": "2024-05-07T13:35:25.2916589Z",
       "livy_statement_state": "available",
       "parent_msg_id": "ad5d6908-e8c5-4e13-9523-326e7f9710d3",
       "queued_time": "2024-05-07T13:35:25.1724616Z",
       "session_id": "10",
       "session_start_time": null,
       "spark_jobs": {
        "jobs": [],
        "limit": 20,
        "numbers": {
         "FAILED": 0,
         "RUNNING": 0,
         "SUCCEEDED": 0,
         "UNKNOWN": 0
        },
        "rule": "ALL_DESC"
       },
       "spark_pool": "9aef54d9-9ad5-4e7e-a764-d0d00c9e120a",
       "state": "finished",
       "statement_id": 16,
       "statement_ids": [
        16
       ]
      },
      "text/plain": [
       "StatementMeta(9aef54d9-9ad5-4e7e-a764-d0d00c9e120a, 10, 16, Finished, Available)"
      ]
     },
     "metadata": {},
     "output_type": "display_data"
    },
    {
     "name": "stdout",
     "output_type": "stream",
     "text": [
      "ICA components: [[ 4.93171460e-05  2.60870708e-03]\n",
      " [ 5.96140385e-05  1.53505652e-03]\n",
      " [-1.62440927e-04 -2.04653932e-02]\n",
      " ...\n",
      " [-3.74543454e-03  1.65380083e-03]\n",
      " [ 1.11903120e-04  1.86220859e-03]\n",
      " [ 1.11904182e-04  1.86212286e-03]]\n",
      "   Source Port  Destination Port  NAT Source Port  NAT Destination Port  \\\n",
      "0        57222                53            54587                    53   \n",
      "1        56258              3389            56258                  3389   \n",
      "2         6881             50321            43265                 50321   \n",
      "3        50553              3389            50553                  3389   \n",
      "4        50002               443            45848                   443   \n",
      "\n",
      "  Action  Bytes  Bytes Sent  Bytes Received  Packets  Elapsed Time (sec)  \\\n",
      "0  allow    177          94              83        2                  30   \n",
      "1  allow   4768        1600            3168       19                  17   \n",
      "2  allow    238         118             120        2                1199   \n",
      "3  allow   3327        1438            1889       15                  17   \n",
      "4  allow  25358        6778           18580       31                  16   \n",
      "\n",
      "   pkts_sent  pkts_received  PCA Component 1  PCA Component 2  \\\n",
      "0          1              1        -0.050520        -0.813981   \n",
      "1         10              9        -0.046559        -0.478820   \n",
      "2          1              1         0.272854         6.386852   \n",
      "3          8              7        -0.048824        -0.307170   \n",
      "4         13             18        -0.044115        -0.565015   \n",
      "\n",
      "   t-SNE Component 1  t-SNE Component 2  ICA Component 1  ICA Component 2  \n",
      "0          18.837944         -26.898037         0.000049         0.002609  \n",
      "1          -0.208587          63.740612         0.000060         0.001535  \n",
      "2           2.752887         -64.371841        -0.000162        -0.020465  \n",
      "3          -1.695918          60.580345         0.000073         0.000985  \n",
      "4         -37.189548         -28.282530         0.000051         0.001811  \n"
     ]
    }
   ],
   "source": [
    "from sklearn.decomposition import FastICA\n",
    "\n",
    "# Apply ICA\n",
    "ica = FastICA(n_components=2, random_state=42)\n",
    "X_ica = ica.fit_transform(X_scaled)\n",
    "\n",
    "# Print ICA components\n",
    "print(\"ICA components:\", X_ica)\n",
    "\n",
    "# Create DataFrame with ICA components\n",
    "df_ica = pd.DataFrame(data=X_ica, columns=['ICA Component 1', 'ICA Component 2'])\n",
    "\n",
    "# Concatenate ICA components with the original DataFrame\n",
    "df = pd.concat([df.reset_index(drop=True), df_ica.reset_index(drop=True)], axis=1)\n",
    "\n",
    "# Print first few rows of the DataFrame with ICA components\n",
    "print(df.head())\n"
   ]
  },
  {
   "cell_type": "code",
   "execution_count": 12,
   "metadata": {
    "gather": {
     "logged": 1715088937276
    },
    "jupyter": {
     "outputs_hidden": false,
     "source_hidden": false
    },
    "nteract": {
     "transient": {
      "deleting": false
     }
    }
   },
   "outputs": [
    {
     "data": {
      "application/vnd.livy.statement-meta+json": {
       "execution_finish_time": "2024-05-07T13:35:36.7095329Z",
       "execution_start_time": "2024-05-07T13:35:35.1640059Z",
       "livy_statement_state": "available",
       "parent_msg_id": "516996ec-b43a-4487-9694-0fd7f19437f6",
       "queued_time": "2024-05-07T13:35:35.0470848Z",
       "session_id": "10",
       "session_start_time": null,
       "spark_jobs": {
        "jobs": [],
        "limit": 20,
        "numbers": {
         "FAILED": 0,
         "RUNNING": 0,
         "SUCCEEDED": 0,
         "UNKNOWN": 0
        },
        "rule": "ALL_DESC"
       },
       "spark_pool": "9aef54d9-9ad5-4e7e-a764-d0d00c9e120a",
       "state": "finished",
       "statement_id": 17,
       "statement_ids": [
        17
       ]
      },
      "text/plain": [
       "StatementMeta(9aef54d9-9ad5-4e7e-a764-d0d00c9e120a, 10, 17, Finished, Available)"
      ]
     },
     "metadata": {},
     "output_type": "display_data"
    }
   ],
   "source": [
    "from sklearn.cluster import KMeans  # Import KMeans  \n",
    "import matplotlib.pyplot as plt  # Import matlib\n",
    "from sklearn.manifold import TSNE"
   ]
  },
  {
   "cell_type": "code",
   "execution_count": 13,
   "metadata": {
    "gather": {
     "logged": 1715088948289
    },
    "jupyter": {
     "outputs_hidden": false,
     "source_hidden": false
    },
    "nteract": {
     "transient": {
      "deleting": false
     }
    }
   },
   "outputs": [
    {
     "data": {
      "application/vnd.livy.statement-meta+json": {
       "execution_finish_time": "2024-05-07T13:35:47.498005Z",
       "execution_start_time": "2024-05-07T13:35:43.0063866Z",
       "livy_statement_state": "available",
       "parent_msg_id": "231da24a-cde2-4fdc-809c-a9cd7511fa52",
       "queued_time": "2024-05-07T13:35:42.8925368Z",
       "session_id": "10",
       "session_start_time": null,
       "spark_jobs": {
        "jobs": [],
        "limit": 20,
        "numbers": {
         "FAILED": 0,
         "RUNNING": 0,
         "SUCCEEDED": 0,
         "UNKNOWN": 0
        },
        "rule": "ALL_DESC"
       },
       "spark_pool": "9aef54d9-9ad5-4e7e-a764-d0d00c9e120a",
       "state": "finished",
       "statement_id": 18,
       "statement_ids": [
        18
       ]
      },
      "text/plain": [
       "StatementMeta(9aef54d9-9ad5-4e7e-a764-d0d00c9e120a, 10, 18, Finished, Available)"
      ]
     },
     "metadata": {},
     "output_type": "display_data"
    },
    {
     "name": "stdout",
     "output_type": "stream",
     "text": [
      "   Source Port  Destination Port  NAT Source Port  NAT Destination Port  \\\n",
      "0        57222                53            54587                    53   \n",
      "1        56258              3389            56258                  3389   \n",
      "2         6881             50321            43265                 50321   \n",
      "3        50553              3389            50553                  3389   \n",
      "4        50002               443            45848                   443   \n",
      "\n",
      "  Action  Bytes  Bytes Sent  Bytes Received  Packets  Elapsed Time (sec)  \\\n",
      "0  allow    177          94              83        2                  30   \n",
      "1  allow   4768        1600            3168       19                  17   \n",
      "2  allow    238         118             120        2                1199   \n",
      "3  allow   3327        1438            1889       15                  17   \n",
      "4  allow  25358        6778           18580       31                  16   \n",
      "\n",
      "   pkts_sent  pkts_received  PCA Component 1  PCA Component 2  \\\n",
      "0          1              1        -0.050520        -0.813981   \n",
      "1         10              9        -0.046559        -0.478820   \n",
      "2          1              1         0.272854         6.386852   \n",
      "3          8              7        -0.048824        -0.307170   \n",
      "4         13             18        -0.044115        -0.565015   \n",
      "\n",
      "   t-SNE Component 1  t-SNE Component 2  ICA Component 1  ICA Component 2  \\\n",
      "0          18.837944         -26.898037         0.000049         0.002609   \n",
      "1          -0.208587          63.740612         0.000060         0.001535   \n",
      "2           2.752887         -64.371841        -0.000162        -0.020465   \n",
      "3          -1.695918          60.580345         0.000073         0.000985   \n",
      "4         -37.189548         -28.282530         0.000051         0.001811   \n",
      "\n",
      "   Cluster  \n",
      "0        0  \n",
      "1        0  \n",
      "2        3  \n",
      "3        0  \n",
      "4        0  \n"
     ]
    },
    {
     "data": {
      "image/png": "[encoded data removed]",
      "text/plain": [
       "<Figure size 576x432 with 1 Axes>"
      ]
     },
     "metadata": {
      "needs_background": "light"
     },
     "output_type": "display_data"
    }
   ],
   "source": [
    "# Clustering\n",
    "kmeans = KMeans(n_clusters=4, random_state=42)  # Assuming 4 clusters\n",
    "clusters = kmeans.fit_predict(X_scaled)\n",
    "\n",
    "# Add cluster labels to the DataFrame\n",
    "df['Cluster'] = clusters\n",
    "\n",
    "# Print first few rows of the DataFrame with PCA components and cluster labels\n",
    "print(df.head())\n",
    "\n",
    "# Visualize clusters in 2D\n",
    "plt.figure(figsize=(8, 6))\n",
    "plt.scatter(df['PCA Component 1'], df['PCA Component 2'], c=df['Cluster'], cmap='viridis', alpha=0.5)\n",
    "plt.scatter(kmeans.cluster_centers_[:, 0], kmeans.cluster_centers_[:, 1], marker='x', s=100, c='red', label='Centroids')\n",
    "plt.xlabel('PCA Component 1')\n",
    "plt.ylabel('PCA Component 2')\n",
    "plt.title('K-means Clustering')\n",
    "plt.legend()\n",
    "plt.grid(True)\n",
    "plt.show()"
   ]
  },
  {
   "cell_type": "code",
   "execution_count": 14,
   "metadata": {
    "gather": {
     "logged": 1715088952038
    },
    "jupyter": {
     "outputs_hidden": false,
     "source_hidden": false
    },
    "nteract": {
     "transient": {
      "deleting": false
     }
    }
   },
   "outputs": [
    {
     "data": {
      "application/vnd.livy.statement-meta+json": {
       "execution_finish_time": "2024-05-07T13:35:51.4132407Z",
       "execution_start_time": "2024-05-07T13:35:50.5926947Z",
       "livy_statement_state": "available",
       "parent_msg_id": "9f393efb-6439-4e29-965e-ba24b9af5912",
       "queued_time": "2024-05-07T13:35:50.4643714Z",
       "session_id": "10",
       "session_start_time": null,
       "spark_jobs": {
        "jobs": [],
        "limit": 20,
        "numbers": {
         "FAILED": 0,
         "RUNNING": 0,
         "SUCCEEDED": 0,
         "UNKNOWN": 0
        },
        "rule": "ALL_DESC"
       },
       "spark_pool": "9aef54d9-9ad5-4e7e-a764-d0d00c9e120a",
       "state": "finished",
       "statement_id": 19,
       "statement_ids": [
        19
       ]
      },
      "text/plain": [
       "StatementMeta(9aef54d9-9ad5-4e7e-a764-d0d00c9e120a, 10, 19, Finished, Available)"
      ]
     },
     "metadata": {},
     "output_type": "display_data"
    }
   ],
   "source": [
    "# Apply K-means clustering on PCA and t-SNE transformed data\n",
    "kmeans_pca = KMeans(n_clusters=2, random_state=42)\n",
    "clusters_pca = kmeans_pca.fit_predict(X_pca)\n",
    "\n",
    "kmeans_tsne = KMeans(n_clusters=2, random_state=42)\n",
    "clusters_tsne = kmeans_tsne.fit_predict(X_tsne)\n",
    "\n",
    "kmeans_ica = KMeans(n_clusters=2, random_state=42)\n",
    "clusters_ica = kmeans_ica.fit_predict(X_ica)\n",
    "\n"
   ]
  },
  {
   "cell_type": "code",
   "execution_count": 15,
   "metadata": {
    "gather": {
     "logged": 1715089065519
    },
    "jupyter": {
     "outputs_hidden": false,
     "source_hidden": false
    },
    "nteract": {
     "transient": {
      "deleting": false
     }
    }
   },
   "outputs": [
    {
     "data": {
      "application/vnd.livy.statement-meta+json": {
       "execution_finish_time": "2024-05-07T13:37:44.9300922Z",
       "execution_start_time": "2024-05-07T13:35:56.0901038Z",
       "livy_statement_state": "available",
       "parent_msg_id": "a305451f-78f1-4536-b955-59dbd0bb4c87",
       "queued_time": "2024-05-07T13:35:55.5171132Z",
       "session_id": "10",
       "session_start_time": null,
       "spark_jobs": {
        "jobs": [],
        "limit": 20,
        "numbers": {
         "FAILED": 0,
         "RUNNING": 0,
         "SUCCEEDED": 0,
         "UNKNOWN": 0
        },
        "rule": "ALL_DESC"
       },
       "spark_pool": "9aef54d9-9ad5-4e7e-a764-d0d00c9e120a",
       "state": "finished",
       "statement_id": 20,
       "statement_ids": [
        20
       ]
      },
      "text/plain": [
       "StatementMeta(9aef54d9-9ad5-4e7e-a764-d0d00c9e120a, 10, 20, Finished, Available)"
      ]
     },
     "metadata": {},
     "output_type": "display_data"
    },
    {
     "name": "stdout",
     "output_type": "stream",
     "text": [
      "Silhouette Score for PCA: 0.9925016877094999\n",
      "Silhouette Score for t-SNE: 0.041811161222930625\n",
      "Silhouette Score for ICA: 0.5297645039146689\n"
     ]
    }
   ],
   "source": [
    "from sklearn.metrics import silhouette_score\n",
    "\n",
    "# Print silhouette scores\n",
    "silhouette_pca = silhouette_score(X_scaled, clusters_pca)\n",
    "silhouette_tsne = silhouette_score(X_scaled, clusters_tsne)\n",
    "print(\"Silhouette Score for PCA:\", silhouette_pca)\n",
    "print(\"Silhouette Score for t-SNE:\", silhouette_tsne)\n",
    "\n",
    "# Calculate silhouette score for ICA\n",
    "clusters_ica = kmeans.fit_predict(X_ica)\n",
    "silhouette_ica = silhouette_score(X_scaled, clusters_ica)\n",
    "print(\"Silhouette Score for ICA:\", silhouette_ica)"
   ]
  },
  {
   "cell_type": "code",
   "execution_count": 16,
   "metadata": {
    "gather": {
     "logged": 1715089066399
    },
    "jupyter": {
     "outputs_hidden": false,
     "source_hidden": false
    },
    "nteract": {
     "transient": {
      "deleting": false
     }
    }
   },
   "outputs": [
    {
     "data": {
      "application/vnd.livy.statement-meta+json": {
       "execution_finish_time": "2024-05-07T13:37:45.8738092Z",
       "execution_start_time": "2024-05-07T13:37:45.0619385Z",
       "livy_statement_state": "available",
       "parent_msg_id": "4ae58e34-b18d-4080-adbc-ce07f0c6155c",
       "queued_time": "2024-05-07T13:37:13.751315Z",
       "session_id": "10",
       "session_start_time": null,
       "spark_jobs": {
        "jobs": [],
        "limit": 20,
        "numbers": {
         "FAILED": 0,
         "RUNNING": 0,
         "SUCCEEDED": 0,
         "UNKNOWN": 0
        },
        "rule": "ALL_DESC"
       },
       "spark_pool": "9aef54d9-9ad5-4e7e-a764-d0d00c9e120a",
       "state": "finished",
       "statement_id": 21,
       "statement_ids": [
        21
       ]
      },
      "text/plain": [
       "StatementMeta(9aef54d9-9ad5-4e7e-a764-d0d00c9e120a, 10, 21, Finished, Available)"
      ]
     },
     "metadata": {},
     "output_type": "display_data"
    }
   ],
   "source": [
    "from sklearn.ensemble import IsolationForest\n",
    "from sklearn.svm import OneClassSVM\n",
    "from sklearn.linear_model import LinearRegression\n",
    "from sklearn.metrics import silhouette_score"
   ]
  },
  {
   "cell_type": "code",
   "execution_count": 19,
   "metadata": {
    "gather": {
     "logged": 1715089304138
    },
    "jupyter": {
     "outputs_hidden": false,
     "source_hidden": false
    },
    "nteract": {
     "transient": {
      "deleting": false
     }
    }
   },
   "outputs": [
    {
     "data": {
      "application/vnd.livy.statement-meta+json": {
       "execution_finish_time": "2024-05-07T13:41:43.5235424Z",
       "execution_start_time": "2024-05-07T13:41:42.6997688Z",
       "livy_statement_state": "available",
       "parent_msg_id": "65ae780f-1ce6-4780-944c-fab0fb981bf2",
       "queued_time": "2024-05-07T13:41:42.5813174Z",
       "session_id": "10",
       "session_start_time": null,
       "spark_jobs": {
        "jobs": [],
        "limit": 20,
        "numbers": {
         "FAILED": 0,
         "RUNNING": 0,
         "SUCCEEDED": 0,
         "UNKNOWN": 0
        },
        "rule": "ALL_DESC"
       },
       "spark_pool": "9aef54d9-9ad5-4e7e-a764-d0d00c9e120a",
       "state": "finished",
       "statement_id": 24,
       "statement_ids": [
        24
       ]
      },
      "text/plain": [
       "StatementMeta(9aef54d9-9ad5-4e7e-a764-d0d00c9e120a, 10, 24, Finished, Available)"
      ]
     },
     "metadata": {},
     "output_type": "display_data"
    },
    {
     "data": {
      "text/plain": [
       "IsolationForest(random_state=42)"
      ]
     },
     "execution_count": 47,
     "metadata": {},
     "output_type": "execute_result"
    }
   ],
   "source": [
    "# Train Isolation Forest model (anomaly detection algorithm)\n",
    "isolation_forest = IsolationForest(random_state=42)\n",
    "isolation_forest.fit(X_scaled)"
   ]
  },
  {
   "cell_type": "code",
   "execution_count": 20,
   "metadata": {
    "gather": {
     "logged": 1715089492245
    },
    "jupyter": {
     "outputs_hidden": false,
     "source_hidden": false
    },
    "nteract": {
     "transient": {
      "deleting": false
     }
    }
   },
   "outputs": [
    {
     "data": {
      "application/vnd.livy.statement-meta+json": {
       "execution_finish_time": "2024-05-07T13:44:51.5770551Z",
       "execution_start_time": "2024-05-07T13:41:46.4873255Z",
       "livy_statement_state": "available",
       "parent_msg_id": "d1e8eb7c-34c0-49ca-b66d-b0345109232e",
       "queued_time": "2024-05-07T13:41:46.3759154Z",
       "session_id": "10",
       "session_start_time": null,
       "spark_jobs": {
        "jobs": [],
        "limit": 20,
        "numbers": {
         "FAILED": 0,
         "RUNNING": 0,
         "SUCCEEDED": 0,
         "UNKNOWN": 0
        },
        "rule": "ALL_DESC"
       },
       "spark_pool": "9aef54d9-9ad5-4e7e-a764-d0d00c9e120a",
       "state": "finished",
       "statement_id": 25,
       "statement_ids": [
        25
       ]
      },
      "text/plain": [
       "StatementMeta(9aef54d9-9ad5-4e7e-a764-d0d00c9e120a, 10, 25, Finished, Available)"
      ]
     },
     "metadata": {},
     "output_type": "display_data"
    },
    {
     "data": {
      "text/plain": [
       "OneClassSVM()"
      ]
     },
     "execution_count": 49,
     "metadata": {},
     "output_type": "execute_result"
    }
   ],
   "source": [
    "# Train One-Class SVM model (anomaly detection algorithm)\n",
    "one_class_svm = OneClassSVM()\n",
    "one_class_svm.fit(X_scaled)\n"
   ]
  },
  {
   "cell_type": "code",
   "execution_count": 21,
   "metadata": {
    "gather": {
     "logged": 1715089555713
    },
    "jupyter": {
     "outputs_hidden": false,
     "source_hidden": false
    },
    "nteract": {
     "transient": {
      "deleting": false
     }
    }
   },
   "outputs": [
    {
     "data": {
      "application/vnd.livy.statement-meta+json": {
       "execution_finish_time": "2024-05-07T13:45:55.134124Z",
       "execution_start_time": "2024-05-07T13:44:57.2274079Z",
       "livy_statement_state": "available",
       "parent_msg_id": "9a226b3c-602e-4606-bc0a-6a3cb8083e91",
       "queued_time": "2024-05-07T13:44:57.0933664Z",
       "session_id": "10",
       "session_start_time": null,
       "spark_jobs": {
        "jobs": [],
        "limit": 20,
        "numbers": {
         "FAILED": 0,
         "RUNNING": 0,
         "SUCCEEDED": 0,
         "UNKNOWN": 0
        },
        "rule": "ALL_DESC"
       },
       "spark_pool": "9aef54d9-9ad5-4e7e-a764-d0d00c9e120a",
       "state": "finished",
       "statement_id": 26,
       "statement_ids": [
        26
       ]
      },
      "text/plain": [
       "StatementMeta(9aef54d9-9ad5-4e7e-a764-d0d00c9e120a, 10, 26, Finished, Available)"
      ]
     },
     "metadata": {},
     "output_type": "display_data"
    }
   ],
   "source": [
    "# Make predictions\n",
    "isolation_forest_preds = isolation_forest.predict(X_scaled)\n",
    "# Make predictions with One-Class SVM\n",
    "one_class_svm_preds = one_class_svm.predict(X_scaled)"
   ]
  },
  {
   "cell_type": "code",
   "execution_count": 22,
   "metadata": {
    "gather": {
     "logged": 1715089779879
    },
    "jupyter": {
     "outputs_hidden": false,
     "source_hidden": false
    },
    "nteract": {
     "transient": {
      "deleting": false
     }
    }
   },
   "outputs": [
    {
     "data": {
      "application/vnd.livy.statement-meta+json": {
       "execution_finish_time": "2024-05-07T13:49:39.2874821Z",
       "execution_start_time": "2024-05-07T13:48:27.5325121Z",
       "livy_statement_state": "available",
       "parent_msg_id": "485c42a3-66e0-4867-aacf-358fdce72a2c",
       "queued_time": "2024-05-07T13:48:27.3793003Z",
       "session_id": "10",
       "session_start_time": null,
       "spark_jobs": {
        "jobs": [],
        "limit": 20,
        "numbers": {
         "FAILED": 0,
         "RUNNING": 0,
         "SUCCEEDED": 0,
         "UNKNOWN": 0
        },
        "rule": "ALL_DESC"
       },
       "spark_pool": "9aef54d9-9ad5-4e7e-a764-d0d00c9e120a",
       "state": "finished",
       "statement_id": 27,
       "statement_ids": [
        27
       ]
      },
      "text/plain": [
       "StatementMeta(9aef54d9-9ad5-4e7e-a764-d0d00c9e120a, 10, 27, Finished, Available)"
      ]
     },
     "metadata": {},
     "output_type": "display_data"
    }
   ],
   "source": [
    "# Calculate silhouette scores\n",
    "silhouette_isolation_forest = silhouette_score(X_scaled, isolation_forest_preds)\n",
    "silhouette_one_class_svm = silhouette_score(X_scaled, one_class_svm_preds)"
   ]
  },
  {
   "cell_type": "code",
   "execution_count": 23,
   "metadata": {
    "gather": {
     "logged": 1715089786591
    },
    "jupyter": {
     "outputs_hidden": false,
     "source_hidden": false
    },
    "nteract": {
     "transient": {
      "deleting": false
     }
    }
   },
   "outputs": [
    {
     "data": {
      "application/vnd.livy.statement-meta+json": {
       "execution_finish_time": "2024-05-07T13:49:45.8407666Z",
       "execution_start_time": "2024-05-07T13:49:45.5331673Z",
       "livy_statement_state": "available",
       "parent_msg_id": "fea75120-463b-4849-adce-2ea680cc6f87",
       "queued_time": "2024-05-07T13:49:45.428186Z",
       "session_id": "10",
       "session_start_time": null,
       "spark_jobs": {
        "jobs": [],
        "limit": 20,
        "numbers": {
         "FAILED": 0,
         "RUNNING": 0,
         "SUCCEEDED": 0,
         "UNKNOWN": 0
        },
        "rule": "ALL_DESC"
       },
       "spark_pool": "9aef54d9-9ad5-4e7e-a764-d0d00c9e120a",
       "state": "finished",
       "statement_id": 28,
       "statement_ids": [
        28
       ]
      },
      "text/plain": [
       "StatementMeta(9aef54d9-9ad5-4e7e-a764-d0d00c9e120a, 10, 28, Finished, Available)"
      ]
     },
     "metadata": {},
     "output_type": "display_data"
    },
    {
     "name": "stdout",
     "output_type": "stream",
     "text": [
      "Silhouette Score for Isolation Forest: 0.4941112506014656\n",
      "Silhouette Score for One-Class SVM: 0.15355132733573015\n"
     ]
    }
   ],
   "source": [
    "# Print silhouette scores\n",
    "print(\"Silhouette Score for Isolation Forest:\", silhouette_isolation_forest)\n",
    "print(\"Silhouette Score for One-Class SVM:\", silhouette_one_class_svm)"
   ]
  },
  {
   "cell_type": "code",
   "execution_count": 31,
   "metadata": {
    "gather": {
     "logged": 1715091694979
    },
    "jupyter": {
     "outputs_hidden": false,
     "source_hidden": false
    },
    "nteract": {
     "transient": {
      "deleting": false
     }
    }
   },
   "outputs": [
    {
     "data": {
      "application/vnd.livy.statement-meta+json": {
       "execution_finish_time": "2024-05-07T14:21:34.333364Z",
       "execution_start_time": "2024-05-07T14:20:43.6761023Z",
       "livy_statement_state": "available",
       "parent_msg_id": "f2320cb7-aa6c-444a-a5f8-f9eb0a3153bf",
       "queued_time": "2024-05-07T14:20:43.4850644Z",
       "session_id": "10",
       "session_start_time": null,
       "spark_jobs": {
        "jobs": [],
        "limit": 20,
        "numbers": {
         "FAILED": 0,
         "RUNNING": 0,
         "SUCCEEDED": 0,
         "UNKNOWN": 0
        },
        "rule": "ALL_DESC"
       },
       "spark_pool": "9aef54d9-9ad5-4e7e-a764-d0d00c9e120a",
       "state": "finished",
       "statement_id": 36,
       "statement_ids": [
        36
       ]
      },
      "text/plain": [
       "StatementMeta(9aef54d9-9ad5-4e7e-a764-d0d00c9e120a, 10, 36, Finished, Available)"
      ]
     },
     "metadata": {},
     "output_type": "display_data"
    },
    {
     "name": "stdout",
     "output_type": "stream",
     "text": [
      "Silhouette Score for Linear Regression: 0.00031359180131455307\n"
     ]
    }
   ],
   "source": [
    "# Train Linear Regression model (prediction model)\n",
    "linear_regression = LinearRegression()\n",
    "linear_regression.fit(X_scaled, df['Cluster'])  # Assuming 'Cluster' column is the target variable\n",
    "# Make predictions\n",
    "linear_regression_preds = linear_regression.predict(X_scaled)\n",
    "\n",
    "silhouette_linear_regression = silhouette_score(X_scaled, linear_regression_preds)\n",
    "# Print silhouette scores\n",
    "print(\"Silhouette Score for Linear Regression:\", silhouette_linear_regression)"
   ]
  },
  {
   "cell_type": "code",
   "execution_count": 38,
   "metadata": {
    "gather": {
     "logged": 1715074448582
    },
    "jupyter": {
     "outputs_hidden": false,
     "source_hidden": false
    },
    "nteract": {
     "transient": {
      "deleting": false
     }
    }
   },
   "outputs": [
    {
     "data": {
      "application/vnd.livy.statement-meta+json": {
       "execution_finish_time": "2024-05-07T09:34:07.8576964Z",
       "execution_start_time": "2024-05-07T09:26:45.9284784Z",
       "livy_statement_state": "available",
       "parent_msg_id": "13cbfb82-524a-4986-afe3-3779ac55a0aa",
       "queued_time": "2024-05-07T09:26:45.7810813Z",
       "session_id": "9",
       "session_start_time": null,
       "spark_jobs": {
        "jobs": [],
        "limit": 20,
        "numbers": {
         "FAILED": 0,
         "RUNNING": 0,
         "SUCCEEDED": 0,
         "UNKNOWN": 0
        },
        "rule": "ALL_DESC"
       },
       "spark_pool": "9aef54d9-9ad5-4e7e-a764-d0d00c9e120a",
       "state": "finished",
       "statement_id": 43,
       "statement_ids": [
        43
       ]
      },
      "text/plain": [
       "StatementMeta(9aef54d9-9ad5-4e7e-a764-d0d00c9e120a, 9, 43, Finished, Available)"
      ]
     },
     "metadata": {},
     "output_type": "display_data"
    },
    {
     "name": "stdout",
     "output_type": "stream",
     "text": [
      "Silhouette Score for Random Forest: -0.00041917007787374815\n",
      "Silhouette Score for Gradient Boosting: -0.5373861784852504\n",
      "Silhouette Score for Support Vector Machine: 0.00030830722256602026\n",
      "Silhouette Score for Decision Tree: 0.5186774816585338\n"
     ]
    }
   ],
   "source": [
    "from sklearn.ensemble import RandomForestRegressor\n",
    "from sklearn.ensemble import GradientBoostingRegressor\n",
    "from sklearn.svm import SVR\n",
    "from sklearn.tree import DecisionTreeRegressor\n",
    "\n",
    "# Train Random Forest model\n",
    "random_forest = RandomForestRegressor(random_state=42)\n",
    "random_forest.fit(X_scaled, df['Cluster'])\n",
    "random_forest_preds = random_forest.predict(X_scaled)\n",
    "silhouette_random_forest = silhouette_score(X_scaled, random_forest_preds)\n",
    "\n",
    "# Train Gradient Boosting model\n",
    "gbm = GradientBoostingRegressor(random_state=42)\n",
    "gbm.fit(X_scaled, df['Cluster'])\n",
    "gbm_preds = gbm.predict(X_scaled)\n",
    "silhouette_gbm = silhouette_score(X_scaled, gbm_preds)\n",
    "\n",
    "# Train Support Vector Machine model\n",
    "svm = SVR()\n",
    "svm.fit(X_scaled, df['Cluster'])\n",
    "svm_preds = svm.predict(X_scaled)\n",
    "silhouette_svm = silhouette_score(X_scaled, svm_preds)\n",
    "\n",
    "# Train Decision Tree model\n",
    "decision_tree = DecisionTreeRegressor(random_state=42)\n",
    "decision_tree.fit(X_scaled, df['Cluster'])\n",
    "decision_tree_preds = decision_tree.predict(X_scaled)\n",
    "silhouette_decision_tree = silhouette_score(X_scaled, decision_tree_preds)\n",
    "\n",
    "# Print silhouette scores for each model\n",
    "print(\"Silhouette Score for Random Forest:\", silhouette_random_forest)\n",
    "print(\"Silhouette Score for Gradient Boosting:\", silhouette_gbm)\n",
    "print(\"Silhouette Score for Support Vector Machine:\", silhouette_svm)\n",
    "print(\"Silhouette Score for Decision Tree:\", silhouette_decision_tree)\n"
   ]
  },
  {
   "cell_type": "code",
   "execution_count": 30,
   "metadata": {
    "gather": {
     "logged": 1715091443478
    },
    "jupyter": {
     "outputs_hidden": false,
     "source_hidden": false
    },
    "nteract": {
     "transient": {
      "deleting": false
     }
    }
   },
   "outputs": [
    {
     "data": {
      "application/vnd.livy.statement-meta+json": {
       "execution_finish_time": "2024-05-07T14:17:22.8801037Z",
       "execution_start_time": "2024-05-07T14:12:39.1868874Z",
       "livy_statement_state": "available",
       "parent_msg_id": "ca325229-e680-49c1-8b17-4adc27d6f370",
       "queued_time": "2024-05-07T14:12:39.0494856Z",
       "session_id": "10",
       "session_start_time": null,
       "spark_jobs": {
        "jobs": [],
        "limit": 20,
        "numbers": {
         "FAILED": 0,
         "RUNNING": 0,
         "SUCCEEDED": 0,
         "UNKNOWN": 0
        },
        "rule": "ALL_DESC"
       },
       "spark_pool": "9aef54d9-9ad5-4e7e-a764-d0d00c9e120a",
       "state": "finished",
       "statement_id": 35,
       "statement_ids": [
        35
       ]
      },
      "text/plain": [
       "StatementMeta(9aef54d9-9ad5-4e7e-a764-d0d00c9e120a, 10, 35, Finished, Available)"
      ]
     },
     "metadata": {},
     "output_type": "display_data"
    },
    {
     "name": "stdout",
     "output_type": "stream",
     "text": [
      "Silhouette Score for K-Nearest Neighbors: 0.48934340258705356\n",
      "Silhouette Score for Multilayer Perceptron: 0.00031359180131455307\n",
      "Silhouette Score for Gaussian Process Regression: -0.2747254844557862\n",
      "Silhouette Score for Bayesian Ridge Regression: 0.00031359180131455307\n",
      "Silhouette Score for Ridge Regression: 0.00031359180131455307\n",
      "Silhouette Score for Lasso Regression: -0.7415674363780714\n",
      "Silhouette Score for ElasticNet Regression: -0.7415674363780714\n"
     ]
    }
   ],
   "source": [
    "from sklearn.neighbors import KNeighborsRegressor\n",
    "from sklearn.neural_network import MLPRegressor\n",
    "#from xgboost import XGBRegressor\n",
    "\n",
    "from sklearn.linear_model import BayesianRidge, Ridge, Lasso, ElasticNet\n",
    "from sklearn.gaussian_process import GaussianProcessRegressor\n",
    "\n",
    "# Train K-Nearest Neighbors model\n",
    "knn = KNeighborsRegressor()\n",
    "knn.fit(X_scaled, df['Cluster'])\n",
    "knn_preds = knn.predict(X_scaled)\n",
    "silhouette_knn = silhouette_score(X_scaled, knn_preds)\n",
    "\n",
    "# Train Multilayer Perceptron (Neural Network) model\n",
    "mlp = MLPRegressor(random_state=42)\n",
    "mlp.fit(X_scaled, df['Cluster'])\n",
    "mlp_preds = mlp.predict(X_scaled)\n",
    "silhouette_mlp = silhouette_score(X_scaled, mlp_preds)\n",
    "\n",
    "# Train Bayesian Ridge Regression model\n",
    "bayesian_ridge = BayesianRidge()\n",
    "bayesian_ridge.fit(X_scaled, df['Cluster'])\n",
    "bayesian_ridge_preds = bayesian_ridge.predict(X_scaled)\n",
    "silhouette_bayesian_ridge = silhouette_score(X_scaled, bayesian_ridge_preds)\n",
    "\n",
    "# Train Ridge Regression model\n",
    "ridge = Ridge()\n",
    "ridge.fit(X_scaled, df['Cluster'])\n",
    "ridge_preds = ridge.predict(X_scaled)\n",
    "silhouette_ridge = silhouette_score(X_scaled, ridge_preds)\n",
    "\n",
    "# Train Lasso Regression model\n",
    "lasso = Lasso()\n",
    "lasso.fit(X_scaled, df['Cluster'])\n",
    "lasso_preds = lasso.predict(X_scaled)\n",
    "silhouette_lasso = silhouette_score(X_scaled, lasso_preds)\n",
    "\n",
    "# Train ElasticNet Regression model\n",
    "elasticnet = ElasticNet()\n",
    "elasticnet.fit(X_scaled, df['Cluster'])\n",
    "elasticnet_preds = elasticnet.predict(X_scaled)\n",
    "silhouette_elasticnet = silhouette_score(X_scaled, elasticnet_preds)\n",
    "\n",
    "# Reduce the size of the dataset\n",
    "X_scaled_subset = X_scaled[:10000]  # Adjust the subset size as needed\n",
    "df_subset = df['Cluster'][:10000]\n",
    "\n",
    "# Train Gaussian Process Regression model on the subset\n",
    "gaussian_process = GaussianProcessRegressor()\n",
    "gaussian_process.fit(X_scaled_subset, df_subset)\n",
    "gaussian_process_preds = gaussian_process.predict(X_scaled_subset)\n",
    "silhouette_gaussian_process = silhouette_score(X_scaled_subset, gaussian_process_preds)\n",
    "\n",
    "\n",
    "\n",
    "# Print silhouette scores for each model\n",
    "print(\"Silhouette Score for K-Nearest Neighbors:\", silhouette_knn)\n",
    "print(\"Silhouette Score for Multilayer Perceptron:\", silhouette_mlp)\n",
    "print(\"Silhouette Score for Gaussian Process Regression:\", silhouette_gaussian_process)\n",
    "print(\"Silhouette Score for Bayesian Ridge Regression:\", silhouette_bayesian_ridge)\n",
    "print(\"Silhouette Score for Ridge Regression:\", silhouette_ridge)\n",
    "print(\"Silhouette Score for Lasso Regression:\", silhouette_lasso)\n",
    "print(\"Silhouette Score for ElasticNet Regression:\", silhouette_elasticnet)\n"
   ]
  },
  {
   "cell_type": "code",
   "execution_count": 35,
   "metadata": {
    "gather": {
     "logged": 1715094098426
    },
    "jupyter": {
     "outputs_hidden": false,
     "source_hidden": false
    },
    "nteract": {
     "transient": {
      "deleting": false
     }
    }
   },
   "outputs": [
    {
     "data": {
      "application/vnd.livy.statement-meta+json": {
       "execution_finish_time": "2024-05-07T15:01:37.857865Z",
       "execution_start_time": "2024-05-07T14:55:14.8074746Z",
       "livy_statement_state": "available",
       "parent_msg_id": "4edda75e-c7ae-463e-b798-0ed9d27e9e35",
       "queued_time": "2024-05-07T14:55:14.6679928Z",
       "session_id": "10",
       "session_start_time": null,
       "spark_jobs": {
        "jobs": [],
        "limit": 20,
        "numbers": {
         "FAILED": 0,
         "RUNNING": 0,
         "SUCCEEDED": 0,
         "UNKNOWN": 0
        },
        "rule": "ALL_DESC"
       },
       "spark_pool": "9aef54d9-9ad5-4e7e-a764-d0d00c9e120a",
       "state": "finished",
       "statement_id": 40,
       "statement_ids": [
        40
       ]
      },
      "text/plain": [
       "StatementMeta(9aef54d9-9ad5-4e7e-a764-d0d00c9e120a, 10, 40, Finished, Available)"
      ]
     },
     "metadata": {},
     "output_type": "display_data"
    },
    {
     "name": "stdout",
     "output_type": "stream",
     "text": [
      "R-squared Score for Linear Regression: 0.8328897283754808\n",
      "R-squared Score for Random Forest: 0.9989270183524102\n",
      "R-squared Score for Gradient Boosting: 0.9639997434459431\n",
      "R-squared Score for Support Vector Machine: 0.9466694501309325\n",
      "R-squared Score for Decision Tree: 1.0\n",
      "R-squared Score for K-Nearest Neighbors: 0.9941565589663224\n",
      "R-squared Score for Multilayer Perceptron: 0.9600157411877871\n",
      "R-squared Score for Bayesian Ridge Regression: 0.832889726381872\n",
      "R-squared Score for Ridge Regression: 0.832889728002388\n",
      "R-squared Score for Lasso Regression: 0.019280426776666193\n",
      "R-squared Score for ElasticNet Regression: 0.4473070017338441\n"
     ]
    }
   ],
   "source": [
    "import pandas as pd\n",
    "from sklearn.decomposition import PCA\n",
    "from sklearn.preprocessing import StandardScaler\n",
    "from sklearn.manifold import TSNE\n",
    "from sklearn.decomposition import FastICA\n",
    "from sklearn.cluster import KMeans\n",
    "from sklearn.metrics import silhouette_score\n",
    "from sklearn.ensemble import IsolationForest\n",
    "from sklearn.svm import OneClassSVM\n",
    "from sklearn.linear_model import LinearRegression\n",
    "from sklearn.ensemble import RandomForestRegressor, GradientBoostingRegressor\n",
    "from sklearn.svm import SVR\n",
    "from sklearn.tree import DecisionTreeRegressor\n",
    "from sklearn.neighbors import KNeighborsRegressor\n",
    "from sklearn.neural_network import MLPRegressor\n",
    "from sklearn.linear_model import BayesianRidge, Ridge, Lasso, ElasticNet\n",
    "from sklearn.gaussian_process import GaussianProcessRegressor\n",
    "from sklearn.metrics import r2_score\n",
    "\n",
    "# Train Linear Regression model (prediction model)\n",
    "linear_regression = LinearRegression()\n",
    "linear_regression.fit(X_scaled, df['Cluster'])  # Assuming 'Cluster' column is the target variable\n",
    "# Make predictions\n",
    "linear_regression_preds = linear_regression.predict(X_scaled)\n",
    "# Calculate R-squared score\n",
    "r2_linear_regression = r2_score(df['Cluster'], linear_regression_preds)\n",
    "# Print R-squared score\n",
    "print(\"R-squared Score for Linear Regression:\", r2_linear_regression)\n",
    "\n",
    "\n",
    "# Train Random Forest model\n",
    "random_forest = RandomForestRegressor(random_state=42)\n",
    "random_forest.fit(X_scaled, df['Cluster'])\n",
    "random_forest_preds = random_forest.predict(X_scaled)\n",
    "# Calculate R-squared score\n",
    "r2_random_forest = r2_score(df['Cluster'], random_forest_preds)\n",
    "# Print R-squared score\n",
    "print(\"R-squared Score for Random Forest:\", r2_random_forest)\n",
    "\n",
    "\n",
    "# Train Gradient Boosting model\n",
    "gbm = GradientBoostingRegressor(random_state=42)\n",
    "gbm.fit(X_scaled, df['Cluster'])\n",
    "gbm_preds = gbm.predict(X_scaled)\n",
    "# Calculate R-squared score\n",
    "r2_gbm = r2_score(df['Cluster'], gbm_preds)\n",
    "# Print R-squared score\n",
    "print(\"R-squared Score for Gradient Boosting:\", r2_gbm)\n",
    "\n",
    "\n",
    "# Train Support Vector Machine model\n",
    "svm = SVR()\n",
    "svm.fit(X_scaled, df['Cluster'])\n",
    "svm_preds = svm.predict(X_scaled)\n",
    "# Calculate R-squared score\n",
    "r2_svm = r2_score(df['Cluster'], svm_preds)\n",
    "# Print R-squared score\n",
    "print(\"R-squared Score for Support Vector Machine:\", r2_svm)\n",
    "\n",
    "\n",
    "# Train Decision Tree model\n",
    "decision_tree = DecisionTreeRegressor(random_state=42)\n",
    "decision_tree.fit(X_scaled, df['Cluster'])\n",
    "decision_tree_preds = decision_tree.predict(X_scaled)\n",
    "# Calculate R-squared score\n",
    "r2_decision_tree = r2_score(df['Cluster'], decision_tree_preds)\n",
    "# Print R-squared score\n",
    "print(\"R-squared Score for Decision Tree:\", r2_decision_tree)\n",
    "\n",
    "\n",
    "# Train K-Nearest Neighbors model\n",
    "knn = KNeighborsRegressor()\n",
    "knn.fit(X_scaled, df['Cluster'])\n",
    "knn_preds = knn.predict(X_scaled)\n",
    "# Calculate R-squared score\n",
    "r2_knn = r2_score(df['Cluster'], knn_preds)\n",
    "# Print R-squared score\n",
    "print(\"R-squared Score for K-Nearest Neighbors:\", r2_knn)\n",
    "\n",
    "\n",
    "# Train Multilayer Perceptron (Neural Network) model\n",
    "mlp = MLPRegressor(random_state=42)\n",
    "mlp.fit(X_scaled, df['Cluster'])\n",
    "mlp_preds = mlp.predict(X_scaled)\n",
    "# Calculate R-squared score\n",
    "r2_mlp = r2_score(df['Cluster'], mlp_preds)\n",
    "# Print R-squared score\n",
    "print(\"R-squared Score for Multilayer Perceptron:\", r2_mlp)\n",
    "\n",
    "\n",
    "# Train Bayesian Ridge Regression model\n",
    "bayesian_ridge = BayesianRidge()\n",
    "bayesian_ridge.fit(X_scaled, df['Cluster'])\n",
    "bayesian_ridge_preds = bayesian_ridge.predict(X_scaled)\n",
    "# Calculate R-squared score\n",
    "r2_bayesian_ridge = r2_score(df['Cluster'], bayesian_ridge_preds)\n",
    "# Print R-squared score\n",
    "print(\"R-squared Score for Bayesian Ridge Regression:\", r2_bayesian_ridge)\n",
    "\n",
    "\n",
    "# Train Ridge Regression model\n",
    "ridge = Ridge()\n",
    "ridge.fit(X_scaled, df['Cluster'])\n",
    "ridge_preds = ridge.predict(X_scaled)\n",
    "# Calculate R-squared score\n",
    "r2_ridge = r2_score(df['Cluster'], ridge_preds)\n",
    "# Print R-squared score\n",
    "print(\"R-squared Score for Ridge Regression:\", r2_ridge)\n",
    "\n",
    "\n",
    "# Train Lasso Regression model\n",
    "lasso = Lasso()\n",
    "lasso.fit(X_scaled, df['Cluster'])\n",
    "lasso_preds = lasso.predict(X_scaled)\n",
    "# Calculate R-squared score\n",
    "r2_lasso = r2_score(df['Cluster'], lasso_preds)\n",
    "# Print R-squared score\n",
    "print(\"R-squared Score for Lasso Regression:\", r2_lasso)\n",
    "\n",
    "\n",
    "# Train ElasticNet Regression model\n",
    "elasticnet = ElasticNet()\n",
    "elasticnet.fit(X_scaled, df['Cluster'])\n",
    "elasticnet_preds = elasticnet.predict(X_scaled)\n",
    "# Calculate R-squared score\n",
    "r2_elasticnet = r2_score(df['Cluster'], elasticnet_preds)\n",
    "# Print R-squared score\n",
    "print(\"R-squared Score for ElasticNet Regression:\", r2_elasticnet)\n"
   ]
  }
 ],
 "metadata": {
  "kernel_info": {
   "name": "synapse_pyspark"
  },
  "kernelspec": {
   "display_name": "Python 3 (ipykernel)",
   "language": "python",
   "name": "python3"
  },
  "language_info": {
   "codemirror_mode": {
    "name": "ipython",
    "version": 3
   },
   "file_extension": ".py",
   "mimetype": "text/x-python",
   "name": "python",
   "nbconvert_exporter": "python",
   "pygments_lexer": "ipython3",
   "version": "3.11.5"
  },
  "microsoft": {
   "host": {
    "AzureML": {
     "notebookHasBeenCompleted": true
    }
   },
   "ms_spell_check": {
    "ms_spell_check_language": "en"
   }
  },
  "nteract": {
   "version": "nteract-front-end@1.0.0"
  }
 },
 "nbformat": 4,
 "nbformat_minor": 2
}
